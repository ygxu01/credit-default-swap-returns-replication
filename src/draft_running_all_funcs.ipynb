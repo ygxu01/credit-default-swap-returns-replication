{
 "cells": [
  {
   "cell_type": "markdown",
   "metadata": {},
   "source": [
    "# Functions testing\n",
    "Just try to wrong all the functions available in the py files"
   ]
  },
  {
   "cell_type": "code",
   "execution_count": 1,
   "metadata": {},
   "outputs": [],
   "source": [
    "from datetime import datetime\n",
    "from dateutil.relativedelta import relativedelta\n",
    "from pathlib import Path\n",
    "\n",
    "import numpy as np\n",
    "import pandas as pd\n",
    "import wrds\n",
    "\n",
    "from settings import config\n",
    "\n",
    "DATA_DIR = Path(config(\"DATA_DIR\"))\n",
    "WRDS_USERNAME = config(\"WRDS_USERNAME\")\n",
    "START_YEAR = config(\"START_YEAR\")\n",
    "END_YEAR = config(\"END_YEAR\")"
   ]
  },
  {
   "cell_type": "code",
   "execution_count": 7,
   "metadata": {},
   "outputs": [
    {
     "data": {
      "text/plain": [
       "2001"
      ]
     },
     "execution_count": 7,
     "metadata": {},
     "output_type": "execute_result"
    }
   ],
   "source": [
    "int(START_YEAR)"
   ]
  },
  {
   "cell_type": "code",
   "execution_count": 22,
   "metadata": {},
   "outputs": [],
   "source": [
    "def pull_markit_data(start_year=START_YEAR, end_year=END_YEAR, wrds_username=WRDS_USERNAME):\n",
    "    db = wrds.Connection(wrds_username = wrds_username)\n",
    "    df = pd.DataFrame()\n",
    "\n",
    "    for year in range(int(start_year), int(end_year)):\n",
    "        table = f\"markit.cds{year}\"\n",
    "        query=f\"\"\"\n",
    "        WITH first_trade AS (\n",
    "    SELECT \n",
    "        ticker, \n",
    "        redcode, \n",
    "        DATE_TRUNC('month', date) AS month,  -- Extract month\n",
    "        date AS first_trade_date,            -- Store actual trade date\n",
    "        parspread,                           -- CDS spread\n",
    "        ROW_NUMBER() OVER (\n",
    "            PARTITION BY ticker, redcode, DATE_TRUNC('month', date) \n",
    "            ORDER BY date ASC\n",
    "        ) AS rn  -- Rank by earliest trade date\n",
    "    FROM \n",
    "        {table}\n",
    "    WHERE \n",
    "        tenor = '5Y' \n",
    "        AND country = 'United States'\n",
    ")\n",
    "SELECT \n",
    "    ticker, \n",
    "    redcode, \n",
    "    month, \n",
    "    first_trade_date, \n",
    "    parspread AS midspread\n",
    "FROM \n",
    "    first_trade\n",
    "WHERE \n",
    "    rn = 1  -- Select only the first trade for each firm per month\n",
    "        \"\"\"\n",
    "        new_df = db.raw_sql(query)\n",
    "        df = pd.concat([df, new_df])\n",
    "\n",
    "    db.close()\n",
    "    return df\n"
   ]
  },
  {
   "cell_type": "code",
   "execution_count": 23,
   "metadata": {},
   "outputs": [
    {
     "name": "stdout",
     "output_type": "stream",
     "text": [
      "Loading library list...\n",
      "Done\n"
     ]
    }
   ],
   "source": [
    "df = pull_markit_data()"
   ]
  },
  {
   "cell_type": "code",
   "execution_count": 24,
   "metadata": {},
   "outputs": [],
   "source": [
    "df.to_parquet(DATA_DIR / \"Markit_CDS.parquet\")"
   ]
  },
  {
   "cell_type": "code",
   "execution_count": 20,
   "metadata": {},
   "outputs": [],
   "source": [
    "import pandas as pd\n",
    "import requests\n",
    "from io import BytesIO\n",
    "from pathlib import Path\n",
    "import settings\n",
    "\n",
    "from settings import config\n",
    "import io"
   ]
  },
  {
   "cell_type": "code",
   "execution_count": 19,
   "metadata": {},
   "outputs": [],
   "source": [
    "def pull_fed_yield_curve():\n",
    "    \"\"\"\n",
    "    Download the latest yield curve from the Federal Reserve\n",
    "    \n",
    "    This is the published data using Gurkaynak, Sack, and Wright (2007) model\n",
    "    \"\"\"\n",
    "    \n",
    "    url = \"https://www.federalreserve.gov/data/yield-curve-tables/feds200628.csv\"\n",
    "    response = requests.get(url)\n",
    "    pdf_stream = BytesIO(response.content)\n",
    "    df = pd.read_csv(pdf_stream, skiprows=9, index_col=0, parse_dates=True)\n",
    "    cols = ['SVENY' + str(i).zfill(2) for i in range(1, 5)]\n",
    "    return df[cols]\n",
    "\n",
    "def pull_swap_rates():\n",
    "    urls = {\n",
    "        \"DGS6MO\": \"https://fred.stlouisfed.org/graph/fredgraph.csv?bgcolor=%23ebf3fb&chart_type=line&drp=0&fo=open%20sans&graph_bgcolor=%23ffffff&height=450&mode=fred&recession_bars=on&txtcolor=%23444444&ts=12&tts=12&width=803&nt=0&thu=0&trc=0&show_legend=yes&show_axis_titles=yes&show_tooltip=yes&id=DGS6MO&scale=left&cosd=1981-09-01&coed=2025-03-12&line_color=%230073e6&link_values=false&line_style=solid&mark_type=none&mw=3&lw=3&ost=-99999&oet=99999&mma=0&fml=a&fq=Daily&fam=avg&fgst=lin&fgsnd=2020-02-01&line_index=1&transformation=lin&vintage_date=2025-03-14&revision_date=2025-03-14&nd=1981-09-01\",\n",
    "        \"DGS3MO\": \"https://fred.stlouisfed.org/graph/fredgraph.csv?bgcolor=%23ebf3fb&chart_type=line&drp=0&fo=open%20sans&graph_bgcolor=%23ffffff&height=450&mode=fred&recession_bars=on&txtcolor=%23444444&ts=12&tts=12&width=803&nt=0&thu=0&trc=0&show_legend=yes&show_axis_titles=yes&show_tooltip=yes&id=DGS3MO&scale=left&cosd=1981-09-01&coed=2025-03-12&line_color=%230073e6&link_values=false&line_style=solid&mark_type=none&mw=3&lw=3&ost=-99999&oet=99999&mma=0&fml=a&fq=Daily&fam=avg&fgst=lin&fgsnd=2020-02-01&line_index=1&transformation=lin&vintage_date=2025-03-14&revision_date=2025-03-14&nd=1981-09-01\"\n",
    "    }\n",
    "\n",
    "    dataframes = {}\n",
    "    for key, url in urls.items():\n",
    "        response = requests.get(url)\n",
    "        response.raise_for_status()  \n",
    "        \n",
    "        df = pd.read_csv(io.StringIO(response.text), parse_dates=[\"observation_date\"])\n",
    "        df.columns = [\"observation_date\", key]  \n",
    "        dataframes[key] = df\n",
    "\n",
    "    # Merge dataframes on DATE\n",
    "    df_merged = dataframes[\"DGS3MO\"].merge(dataframes[\"DGS6MO\"], on=\"observation_date\", how=\"outer\")\n",
    "    df_merged = df_merged.rename(columns = {\"observation_date\": \"Date\"})\n",
    "\n",
    "    return df_merged"
   ]
  },
  {
   "cell_type": "code",
   "execution_count": 21,
   "metadata": {},
   "outputs": [],
   "source": [
    "df = pull_fed_yield_curve()\n",
    "path = Path(DATA_DIR) / \"fed_yield_curve.parquet\"\n",
    "df.to_parquet(path)\n",
    "\n",
    "df_fred = pull_swap_rates()\n",
    "path_fred = Path(DATA_DIR) / \"swap_rates.parquet\"\n",
    "df_fred.to_parquet(path_fred)\n"
   ]
  }
 ],
 "metadata": {
  "kernelspec": {
   "display_name": "blank",
   "language": "python",
   "name": "python3"
  },
  "language_info": {
   "codemirror_mode": {
    "name": "ipython",
    "version": 3
   },
   "file_extension": ".py",
   "mimetype": "text/x-python",
   "name": "python",
   "nbconvert_exporter": "python",
   "pygments_lexer": "ipython3",
   "version": "3.12.8"
  }
 },
 "nbformat": 4,
 "nbformat_minor": 2
}
