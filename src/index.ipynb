{
 "cells": [
  {
   "cell_type": "markdown",
   "metadata": {},
   "source": [
    "# Project 8: Credit Default Swap Returns\n"
   ]
  },
  {
   "cell_type": "markdown",
   "metadata": {},
   "source": [
    "## Project Overview  \n",
    "This project aims to **replicate the Credit Default Swap (CDS) columns** from the dataset used in **He, Kelly, and Manela (2017)**, following the methodology described in **Palhares (2013)**.  \n",
    "The goal is to construct and validate CDS returns using WRDS data (Markit, Compustat, CRSP) and perform analysis on both historical and updated CDS return series.\n",
    "\n",
    "### Key Steps\n",
    "\n",
    "1. **Pull All Daily CDS Data**  \n",
    "   - We connect to WRDS, query the Markit CDS tables for each year, and fetch the 5‐year CDS spreads (bid, ask, par, or composite).  \n",
    "   - We merge duplicate quotes on the same day by taking an average or using the composite mid.\n",
    "\n",
    "2. **Compute a Daily Mid Spread**  \n",
    "   - We unify bid/ask to a single “midspread” each trading day.  \n",
    "   - Ensure spreads are consistently in basis points (bps) or decimals.\n",
    "\n",
    "3. **Calculate Daily Short‐CDS Returns**  \n",
    "   - For each ticker (or redcode) and each day, apply the formula:\n",
    "\n",
    "\n",
    "$$\n",
    "CDS^{ret}_t = \\frac{CDS_t}{250}+ \\Delta CDS_t \\times RD_t.\n",
    "$$\n",
    "\n",
    "\n",
    "$$\n",
    "RD_t = \\frac{1}{4} \\sum_{j=1}^{4M} e^{-\\lambda j/4} - e^{-\\left(\\lambda + j\\delta\\right)/4},\n",
    "$$\n",
    "\n",
    "4. **Aggregate Daily to Monthly**  \n",
    "   - We group each entity’s daily returns by calendar month and **compound**:\n",
    "     $R = \\prod (1 + r_{\\text{daily}}) - 1$\n",
    "   - The result is a single monthly short‐CDS return for each name.\n",
    "\n"
   ]
  },
  {
   "cell_type": "markdown",
   "metadata": {},
   "source": [
    "- [Project Walk Through](./Final_Project.html)\n",
    "- [Project Report](./latex_report.html)\n",
    "- [Summary Statistics](./sum_stats.html)"
   ]
  },
  {
   "cell_type": "markdown",
   "metadata": {},
   "source": []
  }
 ],
 "metadata": {
  "language_info": {
   "name": "python"
  }
 },
 "nbformat": 4,
 "nbformat_minor": 2
}
