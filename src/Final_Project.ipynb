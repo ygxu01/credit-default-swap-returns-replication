{
 "cells": [
  {
   "cell_type": "markdown",
   "metadata": {},
   "source": [
    "## Final Project "
   ]
  },
  {
   "cell_type": "markdown",
   "metadata": {},
   "source": [
    "## Credit Default Swap Replication Exercise"
   ]
  },
  {
   "cell_type": "markdown",
   "metadata": {},
   "source": [
    "This Jupyter Notebook provides a comprehensive and structured walkthrough of the process of replicating Credit Default Swap (CDS) returns. The notebook is designed to guide the reader through each step, from data extraction to final analysis, ensuring a clear understanding of the methodology used to reconstruct and validate CDS return series. The process is explained as follows: "
   ]
  },
  {
   "cell_type": "code",
   "execution_count": 1,
   "metadata": {},
   "outputs": [],
   "source": [
    "import pandas as pd\n",
    "import numpy as np\n",
    "import matplotlib.pyplot as plt\n",
    "from scipy.interpolate import CubicSpline\n",
    "from pathlib import Path\n",
    "from settings import config\n",
    "from pull_markit import load_markit_data, load_multiple_data, load_sector_data\n",
    "from pull_rf_data import load_fed_yield_curve, load_fred_data"
   ]
  },
  {
   "cell_type": "code",
   "execution_count": 2,
   "metadata": {},
   "outputs": [],
   "source": [
    "# Configure Data Directories\n",
    "DATA_DIR = Path(config(\"DATA_DIR\"))\n",
    "MANUAL_DATA_DIR = Path(config(\"MANUAL_DATA_DIR\"))"
   ]
  },
  {
   "cell_type": "code",
   "execution_count": 3,
   "metadata": {},
   "outputs": [],
   "source": [
    "# Display settings for Pandas\n",
    "pd.set_option(\"display.max_columns\", None)\n",
    "pd.set_option(\"display.float_format\", lambda x: '%.3f' % x)"
   ]
  },
  {
   "cell_type": "markdown",
   "metadata": {},
   "source": [
    "## Data Extraction and Preprocessing"
   ]
  },
  {
   "cell_type": "markdown",
   "metadata": {},
   "source": []
  },
  {
   "cell_type": "code",
   "execution_count": null,
   "metadata": {},
   "outputs": [],
   "source": []
  },
  {
   "cell_type": "code",
   "execution_count": 4,
   "metadata": {},
   "outputs": [],
   "source": [
    "from settings import config\n",
    "from pull_markit import load_markit_data, load_multiple_data, load_sector_data\n",
    "from pull_cds_return_data import pull_real_cds_return, unpivot_table\n",
    "from calc_cds_daily_return import calc_cds_daily_return"
   ]
  },
  {
   "cell_type": "code",
   "execution_count": 11,
   "metadata": {},
   "outputs": [],
   "source": [
    "# Step 1: Load Markit Data - Merge all Available Yearly CDS Files\n",
    "markit_files = list(DATA_DIR.glob(\"markit_cds*.parquet\"))  # Find all relevant files\n",
    "\n",
    "if not markit_files:\n",
    "    raise FileNotFoundError(\"No Markit CDS files found in the directory!\")\n",
    "\n",
    "markit_list = [pd.read_parquet(file) for file in markit_files]  # Load all files\n",
    "markit = pd.concat(markit_list, ignore_index=True)  # Merge into a single DataFrame"
   ]
  },
  {
   "cell_type": "code",
   "execution_count": 33,
   "metadata": {},
   "outputs": [
    {
     "name": "stdout",
     "output_type": "stream",
     "text": [
      "  ticker trade_date  spread      sector  year  lambda\n",
      "0      A 2022-01-03   0.010  Healthcare  2002   0.017\n",
      "1      A 2022-01-04   0.010  Healthcare  2002   0.017\n",
      "2      A 2022-01-05   0.010  Healthcare  2002   0.017\n",
      "3      A 2022-01-06   0.010  Healthcare  2002   0.017\n",
      "4      A 2022-01-07   0.010  Healthcare  2002   0.017\n"
     ]
    }
   ],
   "source": [
    "# Print first 5 rows\n",
    "print(markit.head())"
   ]
  },
  {
   "cell_type": "code",
   "execution_count": 12,
   "metadata": {},
   "outputs": [],
   "source": [
    "# Step 2: Load Additional Data\n",
    "sector_df = load_sector_data()  # Load sector information\n",
    "real_cds_return = pull_real_cds_return()  # Load real CDS return data\n"
   ]
  },
  {
   "cell_type": "code",
   "execution_count": 13,
   "metadata": {},
   "outputs": [],
   "source": [
    "# Step 3: Filter out financial and government sectors\n",
    "def filter_sector(markit, sector_df):\n",
    "    \"\"\"Filter out financial and government sectors from Markit data.\"\"\"\n",
    "    markit = pd.merge(markit, sector_df, on=\"ticker\", how=\"left\")\n",
    "    markit = markit[~markit[\"sector\"].isin([\"Financials\", \"Government\"])]\n",
    "    return markit\n",
    "\n",
    "markit = filter_sector(markit, sector_df)"
   ]
  },
  {
   "cell_type": "code",
   "execution_count": 14,
   "metadata": {},
   "outputs": [],
   "source": [
    "# Step 4: Compute CDS Default Intensity (Lambda)\n",
    "def calc_lambda(cds_df, L=0.6):\n",
    "    \"\"\"Calculate default intensity (lambda) using CDS spreads.\"\"\"\n",
    "    cds_df[\"lambda\"] = 12 * np.log(1 + cds_df[\"spread\"] / (12 * L))\n",
    "    return cds_df"
   ]
  },
  {
   "cell_type": "code",
   "execution_count": null,
   "metadata": {},
   "outputs": [],
   "source": [
    "# Step 5: Compute Risky Duration (RD)\n",
    "def calc_RD(cds_df, maturity=5):\n",
    "    \"\"\"Compute risk-neutral default probability RD.\"\"\"\n",
    "    \n",
    "    # Ensure a copy is used to prevent SettingWithCopyWarning\n",
    "    cds_df = cds_df.copy()\n",
    "    \n",
    "    # Check if necessary columns exist\n",
    "    if cds_df.empty:\n",
    "        raise ValueError(\"Error: Markit DataFrame is empty! Ensure Markit data is properly loaded.\")\n",
    "    \n",
    "    required_cols = [\"spread\", \"trade_date\"]\n",
    "    for col in required_cols:\n",
    "        if col not in cds_df.columns:\n",
    "            raise ValueError(f\"Error: '{col}' column is missing from the data!\")\n",
    "    \n",
    "    cds_df[\"trade_date\"] = pd.to_datetime(cds_df[\"trade_date\"])\n",
    "\n",
    "    # Compute lambda first\n",
    "    cds_df[\"lambda\"] = 12 * np.log(1 + cds_df[\"spread\"] / (12 * 0.6))  # Assuming L=0.6\n",
    "\n",
    "    # Initialize RD column\n",
    "    cds_df[\"RD\"] = 0.0  \n",
    "\n",
    "    # Compute Risky Duration (RD)\n",
    "    for j in range(1, 12 * maturity + 1):  \n",
    "        cds_df[\"RD\"] += np.exp(-j / 12 * cds_df[\"lambda\"])\n",
    "    \n",
    "    cds_df[\"RD\"] /= 12  # Normalize\n",
    "\n",
    "    # Sort by ticker and date for consistency\n",
    "    cds_df = cds_df.sort_values([\"ticker\", \"trade_date\"])\n",
    "    \n",
    "    # Create lagged columns\n",
    "    cds_df[\"RD_prev\"] = cds_df.groupby(\"ticker\")[\"RD\"].shift(1)\n",
    "    cds_df[\"spread_prev\"] = cds_df.groupby(\"ticker\")[\"spread\"].shift(1)\n",
    "    \n",
    "    return cds_df.dropna(subset=[\"RD_prev\", \"spread_prev\"])  # Drop NaNs due to shifting\n"
   ]
  },
  {
   "cell_type": "code",
   "execution_count": 19,
   "metadata": {},
   "outputs": [],
   "source": [
    "# Step 6: Compute Final CDS Daily Returns\n",
    "final_df = calc_cds_daily_return(rd_df)"
   ]
  },
  {
   "cell_type": "code",
   "execution_count": 20,
   "metadata": {},
   "outputs": [],
   "source": [
    "# Step 7: Save Processed Data\n",
    "data_path = DATA_DIR / \"CDS_daily_return.parquet\"\n",
    "final_df.to_parquet(data_path)"
   ]
  },
  {
   "cell_type": "code",
   "execution_count": null,
   "metadata": {},
   "outputs": [
    {
     "name": "stdout",
     "output_type": "stream",
     "text": [
      "Final Processed Data:\n"
     ]
    },
    {
     "data": {
      "text/html": [
       "<div>\n",
       "<style scoped>\n",
       "    .dataframe tbody tr th:only-of-type {\n",
       "        vertical-align: middle;\n",
       "    }\n",
       "\n",
       "    .dataframe tbody tr th {\n",
       "        vertical-align: top;\n",
       "    }\n",
       "\n",
       "    .dataframe thead th {\n",
       "        text-align: right;\n",
       "    }\n",
       "</style>\n",
       "<table border=\"1\" class=\"dataframe\">\n",
       "  <thead>\n",
       "    <tr style=\"text-align: right;\">\n",
       "      <th></th>\n",
       "      <th>ticker</th>\n",
       "      <th>trade_date</th>\n",
       "      <th>spread</th>\n",
       "      <th>sector</th>\n",
       "      <th>year</th>\n",
       "      <th>lambda</th>\n",
       "      <th>RD</th>\n",
       "      <th>RD_prev</th>\n",
       "      <th>spread_prev</th>\n",
       "      <th>daily_return</th>\n",
       "    </tr>\n",
       "  </thead>\n",
       "  <tbody>\n",
       "    <tr>\n",
       "      <th>3344105</th>\n",
       "      <td>A</td>\n",
       "      <td>2002-02-05</td>\n",
       "      <td>0.047</td>\n",
       "      <td>Healthcare</td>\n",
       "      <td>2002</td>\n",
       "      <td>0.078</td>\n",
       "      <td>4.129</td>\n",
       "      <td>4.086</td>\n",
       "      <td>0.050</td>\n",
       "      <td>0.011</td>\n",
       "    </tr>\n",
       "    <tr>\n",
       "      <th>3345751</th>\n",
       "      <td>A</td>\n",
       "      <td>2002-02-06</td>\n",
       "      <td>0.047</td>\n",
       "      <td>Healthcare</td>\n",
       "      <td>2002</td>\n",
       "      <td>0.078</td>\n",
       "      <td>4.129</td>\n",
       "      <td>4.129</td>\n",
       "      <td>0.047</td>\n",
       "      <td>-0.000</td>\n",
       "    </tr>\n",
       "    <tr>\n",
       "      <th>3350326</th>\n",
       "      <td>A</td>\n",
       "      <td>2002-02-07</td>\n",
       "      <td>0.047</td>\n",
       "      <td>Healthcare</td>\n",
       "      <td>2002</td>\n",
       "      <td>0.078</td>\n",
       "      <td>4.129</td>\n",
       "      <td>4.129</td>\n",
       "      <td>0.047</td>\n",
       "      <td>-0.000</td>\n",
       "    </tr>\n",
       "    <tr>\n",
       "      <th>3264874</th>\n",
       "      <td>A</td>\n",
       "      <td>2002-02-08</td>\n",
       "      <td>0.047</td>\n",
       "      <td>Healthcare</td>\n",
       "      <td>2002</td>\n",
       "      <td>0.078</td>\n",
       "      <td>4.129</td>\n",
       "      <td>4.129</td>\n",
       "      <td>0.047</td>\n",
       "      <td>-0.000</td>\n",
       "    </tr>\n",
       "    <tr>\n",
       "      <th>3313050</th>\n",
       "      <td>A</td>\n",
       "      <td>2002-02-11</td>\n",
       "      <td>0.047</td>\n",
       "      <td>Healthcare</td>\n",
       "      <td>2002</td>\n",
       "      <td>0.078</td>\n",
       "      <td>4.129</td>\n",
       "      <td>4.129</td>\n",
       "      <td>0.047</td>\n",
       "      <td>-0.000</td>\n",
       "    </tr>\n",
       "  </tbody>\n",
       "</table>\n",
       "</div>"
      ],
      "text/plain": [
       "        ticker trade_date  spread      sector  year  lambda    RD  RD_prev  \\\n",
       "3344105      A 2002-02-05   0.047  Healthcare  2002   0.078 4.129    4.086   \n",
       "3345751      A 2002-02-06   0.047  Healthcare  2002   0.078 4.129    4.129   \n",
       "3350326      A 2002-02-07   0.047  Healthcare  2002   0.078 4.129    4.129   \n",
       "3264874      A 2002-02-08   0.047  Healthcare  2002   0.078 4.129    4.129   \n",
       "3313050      A 2002-02-11   0.047  Healthcare  2002   0.078 4.129    4.129   \n",
       "\n",
       "         spread_prev  daily_return  \n",
       "3344105        0.050         0.011  \n",
       "3345751        0.047        -0.000  \n",
       "3350326        0.047        -0.000  \n",
       "3264874        0.047        -0.000  \n",
       "3313050        0.047        -0.000  "
      ]
     },
     "metadata": {},
     "output_type": "display_data"
    }
   ],
   "source": [
    "# Step 8: Data Summary and Visualizations\n",
    "print(\"Final Processed Data:\")\n",
    "display(final_df.head())"
   ]
  },
  {
   "cell_type": "code",
   "execution_count": 22,
   "metadata": {},
   "outputs": [
    {
     "name": "stdout",
     "output_type": "stream",
     "text": [
      "\n",
      "Summary Statistics:\n"
     ]
    },
    {
     "data": {
      "text/html": [
       "<div>\n",
       "<style scoped>\n",
       "    .dataframe tbody tr th:only-of-type {\n",
       "        vertical-align: middle;\n",
       "    }\n",
       "\n",
       "    .dataframe tbody tr th {\n",
       "        vertical-align: top;\n",
       "    }\n",
       "\n",
       "    .dataframe thead th {\n",
       "        text-align: right;\n",
       "    }\n",
       "</style>\n",
       "<table border=\"1\" class=\"dataframe\">\n",
       "  <thead>\n",
       "    <tr style=\"text-align: right;\">\n",
       "      <th></th>\n",
       "      <th>trade_date</th>\n",
       "      <th>spread</th>\n",
       "      <th>year</th>\n",
       "      <th>lambda</th>\n",
       "      <th>RD</th>\n",
       "      <th>RD_prev</th>\n",
       "      <th>spread_prev</th>\n",
       "      <th>daily_return</th>\n",
       "    </tr>\n",
       "  </thead>\n",
       "  <tbody>\n",
       "    <tr>\n",
       "      <th>count</th>\n",
       "      <td>3986945</td>\n",
       "      <td>3986945.000</td>\n",
       "      <td>3986945.000</td>\n",
       "      <td>3986945.000</td>\n",
       "      <td>3986945.000</td>\n",
       "      <td>3986945.000</td>\n",
       "      <td>3986945.000</td>\n",
       "      <td>3986945.000</td>\n",
       "    </tr>\n",
       "    <tr>\n",
       "      <th>mean</th>\n",
       "      <td>2013-02-15 17:10:49.254103552</td>\n",
       "      <td>0.024</td>\n",
       "      <td>2004.560</td>\n",
       "      <td>0.039</td>\n",
       "      <td>4.621</td>\n",
       "      <td>4.621</td>\n",
       "      <td>0.024</td>\n",
       "      <td>-0.000</td>\n",
       "    </tr>\n",
       "    <tr>\n",
       "      <th>min</th>\n",
       "      <td>2001-01-03 00:00:00</td>\n",
       "      <td>0.000</td>\n",
       "      <td>2001.000</td>\n",
       "      <td>0.000</td>\n",
       "      <td>0.002</td>\n",
       "      <td>0.045</td>\n",
       "      <td>0.000</td>\n",
       "      <td>-34.405</td>\n",
       "    </tr>\n",
       "    <tr>\n",
       "      <th>25%</th>\n",
       "      <td>2007-11-26 00:00:00</td>\n",
       "      <td>0.005</td>\n",
       "      <td>2001.000</td>\n",
       "      <td>0.008</td>\n",
       "      <td>4.537</td>\n",
       "      <td>4.537</td>\n",
       "      <td>0.005</td>\n",
       "      <td>-0.000</td>\n",
       "    </tr>\n",
       "    <tr>\n",
       "      <th>50%</th>\n",
       "      <td>2012-08-30 00:00:00</td>\n",
       "      <td>0.010</td>\n",
       "      <td>2003.000</td>\n",
       "      <td>0.016</td>\n",
       "      <td>4.803</td>\n",
       "      <td>4.803</td>\n",
       "      <td>0.010</td>\n",
       "      <td>-0.000</td>\n",
       "    </tr>\n",
       "    <tr>\n",
       "      <th>75%</th>\n",
       "      <td>2018-05-11 00:00:00</td>\n",
       "      <td>0.023</td>\n",
       "      <td>2006.000</td>\n",
       "      <td>0.039</td>\n",
       "      <td>4.897</td>\n",
       "      <td>4.897</td>\n",
       "      <td>0.023</td>\n",
       "      <td>0.000</td>\n",
       "    </tr>\n",
       "    <tr>\n",
       "      <th>max</th>\n",
       "      <td>2025-03-14 00:00:00</td>\n",
       "      <td>345.600</td>\n",
       "      <td>2025.000</td>\n",
       "      <td>46.702</td>\n",
       "      <td>4.999</td>\n",
       "      <td>4.999</td>\n",
       "      <td>13.466</td>\n",
       "      <td>0.589</td>\n",
       "    </tr>\n",
       "    <tr>\n",
       "      <th>std</th>\n",
       "      <td>NaN</td>\n",
       "      <td>0.191</td>\n",
       "      <td>4.726</td>\n",
       "      <td>0.121</td>\n",
       "      <td>0.501</td>\n",
       "      <td>0.501</td>\n",
       "      <td>0.080</td>\n",
       "      <td>0.021</td>\n",
       "    </tr>\n",
       "  </tbody>\n",
       "</table>\n",
       "</div>"
      ],
      "text/plain": [
       "                          trade_date      spread        year      lambda  \\\n",
       "count                        3986945 3986945.000 3986945.000 3986945.000   \n",
       "mean   2013-02-15 17:10:49.254103552       0.024    2004.560       0.039   \n",
       "min              2001-01-03 00:00:00       0.000    2001.000       0.000   \n",
       "25%              2007-11-26 00:00:00       0.005    2001.000       0.008   \n",
       "50%              2012-08-30 00:00:00       0.010    2003.000       0.016   \n",
       "75%              2018-05-11 00:00:00       0.023    2006.000       0.039   \n",
       "max              2025-03-14 00:00:00     345.600    2025.000      46.702   \n",
       "std                              NaN       0.191       4.726       0.121   \n",
       "\n",
       "               RD     RD_prev  spread_prev  daily_return  \n",
       "count 3986945.000 3986945.000  3986945.000   3986945.000  \n",
       "mean        4.621       4.621        0.024        -0.000  \n",
       "min         0.002       0.045        0.000       -34.405  \n",
       "25%         4.537       4.537        0.005        -0.000  \n",
       "50%         4.803       4.803        0.010        -0.000  \n",
       "75%         4.897       4.897        0.023         0.000  \n",
       "max         4.999       4.999       13.466         0.589  \n",
       "std         0.501       0.501        0.080         0.021  "
      ]
     },
     "metadata": {},
     "output_type": "display_data"
    }
   ],
   "source": [
    "\n",
    "print(\"\\nSummary Statistics:\")\n",
    "display(final_df.describe())"
   ]
  },
  {
   "cell_type": "code",
   "execution_count": 24,
   "metadata": {},
   "outputs": [
    {
     "data": {
      "image/png": "[encoded data removed]",
      "text/plain": [
       "<Figure size 1000x500 with 1 Axes>"
      ]
     },
     "metadata": {},
     "output_type": "display_data"
    }
   ],
   "source": [
    "# Time-Series Plot of CDS Returns\n",
    "plt.figure(figsize=(10, 5))\n",
    "plt.plot(final_df.groupby(\"trade_date\")[\"daily_return\"].mean(), label=\"Average CDS Daily Return\", color=\"blue\")\n",
    "plt.xlabel(\"Date\")\n",
    "plt.ylabel(\"Daily Return\")\n",
    "plt.title(\"Credit Default Swap Daily Returns Over Time\")\n",
    "plt.legend()\n",
    "plt.show()"
   ]
  },
  {
   "cell_type": "code",
   "execution_count": 30,
   "metadata": {},
   "outputs": [
    {
     "data": {
      "image/png": "[encoded data removed]",
      "text/plain": [
       "<Figure size 640x480 with 1 Axes>"
      ]
     },
     "metadata": {},
     "output_type": "display_data"
    }
   ],
   "source": [
    "import seaborn as sns  \n",
    "import matplotlib.pyplot as plt\n",
    "\n",
    "# Boxplot of Returns Over Years\n",
    "sns.boxplot(x=final_df[\"trade_date\"].dt.year, y=final_df[\"daily_return\"])\n",
    "plt.xlabel(\"Year\")\n",
    "plt.ylabel(\"Daily Return\")\n",
    "plt.title(\"CDS Daily Returns by Year\")\n",
    "plt.xticks(rotation=45)\n",
    "plt.show()\n",
    "\n"
   ]
  },
  {
   "cell_type": "code",
   "execution_count": 27,
   "metadata": {},
   "outputs": [
    {
     "name": "stdout",
     "output_type": "stream",
     "text": [
      "\n",
      "Correlation Matrix:\n"
     ]
    },
    {
     "data": {
      "text/html": [
       "<div>\n",
       "<style scoped>\n",
       "    .dataframe tbody tr th:only-of-type {\n",
       "        vertical-align: middle;\n",
       "    }\n",
       "\n",
       "    .dataframe tbody tr th {\n",
       "        vertical-align: top;\n",
       "    }\n",
       "\n",
       "    .dataframe thead th {\n",
       "        text-align: right;\n",
       "    }\n",
       "</style>\n",
       "<table border=\"1\" class=\"dataframe\">\n",
       "  <thead>\n",
       "    <tr style=\"text-align: right;\">\n",
       "      <th></th>\n",
       "      <th>spread</th>\n",
       "      <th>RD</th>\n",
       "      <th>daily_return</th>\n",
       "    </tr>\n",
       "  </thead>\n",
       "  <tbody>\n",
       "    <tr>\n",
       "      <th>spread</th>\n",
       "      <td>1.000</td>\n",
       "      <td>-0.297</td>\n",
       "      <td>-0.786</td>\n",
       "    </tr>\n",
       "    <tr>\n",
       "      <th>RD</th>\n",
       "      <td>-0.297</td>\n",
       "      <td>1.000</td>\n",
       "      <td>0.046</td>\n",
       "    </tr>\n",
       "    <tr>\n",
       "      <th>daily_return</th>\n",
       "      <td>-0.786</td>\n",
       "      <td>0.046</td>\n",
       "      <td>1.000</td>\n",
       "    </tr>\n",
       "  </tbody>\n",
       "</table>\n",
       "</div>"
      ],
      "text/plain": [
       "              spread     RD  daily_return\n",
       "spread         1.000 -0.297        -0.786\n",
       "RD            -0.297  1.000         0.046\n",
       "daily_return  -0.786  0.046         1.000"
      ]
     },
     "metadata": {},
     "output_type": "display_data"
    }
   ],
   "source": [
    "# Correlation Matrix\n",
    "correlation_matrix = final_df[[\"spread\", \"RD\", \"daily_return\"]].corr()\n",
    "print(\"\\nCorrelation Matrix:\")\n",
    "display(correlation_matrix)"
   ]
  }
 ],
 "metadata": {
  "kernelspec": {
   "display_name": "finm",
   "language": "python",
   "name": "python3"
  },
  "language_info": {
   "codemirror_mode": {
    "name": "ipython",
    "version": 3
   },
   "file_extension": ".py",
   "mimetype": "text/x-python",
   "name": "python",
   "nbconvert_exporter": "python",
   "pygments_lexer": "ipython3",
   "version": "3.12.9"
  }
 },
 "nbformat": 4,
 "nbformat_minor": 2
}
