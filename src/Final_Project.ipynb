{
 "cells": [
  {
   "cell_type": "markdown",
   "metadata": {},
   "source": [
    "## Final Project "
   ]
  },
  {
   "cell_type": "markdown",
   "metadata": {},
   "source": [
    "## Credit Default Swap Replication Exercise"
   ]
  },
  {
   "cell_type": "markdown",
   "metadata": {},
   "source": [
    "This Jupyter Notebook provides a comprehensive and structured walkthrough of the process of replicating Credit Default Swap (CDS) returns. The notebook is designed to guide the reader through each step, from data extraction to final analysis, ensuring a clear understanding of the methodology used to reconstruct and validate CDS return series. The process is explained as follows: "
   ]
  },
  {
   "cell_type": "code",
   "execution_count": null,
   "metadata": {},
   "outputs": [],
   "source": [
    "import pandas as pd\n",
    "import numpy as np\n",
    "import datetime\n",
    "import matplotlib.pyplot as plt\n",
    "from scipy.interpolate import CubicSpline\n",
    "from pathlib import Path\n",
    "from settings import config\n",
    "from pull_markit import load_markit_data, load_multiple_data, load_sector_data\n",
    "from pull_interest_rates_data import load_fed_yield_curve, load_fred_data"
   ]
  },
  {
   "cell_type": "code",
   "execution_count": null,
   "metadata": {},
   "outputs": [],
   "source": [
    "# Configure Data Directories\n",
    "DATA_DIR = Path(config(\"DATA_DIR\"))\n",
    "MANUAL_DATA_DIR = Path(config(\"MANUAL_DATA_DIR\"))"
   ]
  },
  {
   "cell_type": "code",
   "execution_count": null,
   "metadata": {},
   "outputs": [],
   "source": [
    "# Display settings for Pandas\n",
    "pd.set_option(\"display.max_columns\", None)\n",
    "pd.set_option(\"display.float_format\", lambda x: '%.3f' % x)"
   ]
  },
  {
   "cell_type": "markdown",
   "metadata": {},
   "source": [
    "## Data Extraction and Preprocessing"
   ]
  },
  {
   "cell_type": "markdown",
   "metadata": {},
   "source": [
    "First, we dynamically load and merge Markit CDS data from multiple years, along with sector classifications and real CDS return data. We then filter out financial and government sector CDS to align with research conventions. For efficiecy we will be importing our detailed python files here."
   ]
  },
  {
   "cell_type": "code",
   "execution_count": null,
   "metadata": {},
   "outputs": [],
   "source": [
    "from settings import config\n",
    "from pull_markit import load_markit_data, load_multiple_data, load_sector_data\n",
    "from pull_cds_return_data import pull_real_cds_return, unpivot_table\n",
    "from calc_cds_daily_return import calc_cds_daily_return"
   ]
  },
  {
   "cell_type": "code",
   "execution_count": null,
   "metadata": {},
   "outputs": [],
   "source": [
    "# Step 1: Load Markit Data - Merge all Available Yearly CDS Files\n",
    "markit_files = list(DATA_DIR.glob(\"markit_cds*.parquet\"))  # Find all relevant files\n",
    "\n",
    "if not markit_files:\n",
    "    raise FileNotFoundError(\"No Markit CDS files found in the directory!\")\n",
    "\n",
    "markit_list = [pd.read_parquet(file) for file in markit_files]  # Load all files\n",
    "markit = pd.concat(markit_list, ignore_index=True)  # Merge into a single DataFrame"
   ]
  },
  {
   "cell_type": "markdown",
   "metadata": {},
   "source": [
    "This dataset contains CDS (Credit Default Swap) spread data for various tickers over time. It includes key columns such as trade date, sector classification, spread values, and computed default intensity (λ), which helps assess credit risk across different industries and years."
   ]
  },
  {
   "cell_type": "code",
   "execution_count": null,
   "metadata": {},
   "outputs": [],
   "source": [
    "# Step 2: Load Additional Data\n",
    "sector_df = load_sector_data()  # Load sector information\n",
    "real_cds_return = pull_real_cds_return()  # Load real CDS return data\n"
   ]
  },
  {
   "cell_type": "markdown",
   "metadata": {},
   "source": [
    "Filtering out financial and government entities, we improve the consistency and comparability of the CDS data across industries. \n",
    "- **Systemic Risk in Financial Sector:**  \n",
    "  Financial institutions often have complex interdependencies and implicit government backing, making their CDS spreads less reflective of standalone credit risk.\n",
    "- **Sovereign CDS Differences:**  \n",
    "  Government CDS spreads are driven by macroeconomic and political factors, which differ from corporate credit risk.\n",
    "- **Focus on Corporate Credit Risk:**  \n",
    "  Excluding these sectors ensures that our analysis remains focused on corporate CDS contracts, providing a clearer picture of market-implied credit risk."
   ]
  },
  {
   "cell_type": "code",
   "execution_count": null,
   "metadata": {},
   "outputs": [],
   "source": [
    "# Step 3: Filter out financial and government sectors\n",
    "def filter_sector(markit, sector_df):\n",
    "    \"\"\"Filter out financial and government sectors from Markit data.\"\"\"\n",
    "    markit = pd.merge(markit, sector_df, on=\"ticker\", how=\"left\")\n",
    "    markit = markit[~markit[\"sector\"].isin([\"Financials\", \"Government\"])]\n",
    "    return markit\n",
    "\n",
    "markit = filter_sector(markit, sector_df)"
   ]
  },
  {
   "cell_type": "markdown",
   "metadata": {},
   "source": [
    "# Credit Default Swap (CDS) Return Calculation\n",
    "\n",
    "The return on a CDS contract is calculated using the definition provided by **Palhares (2013)**, which decomposes the return into two components: **carry return** and **capital gain return**. The one-day return for a short CDS position (assuming no default) is given by:\n",
    "\n",
    "$$\n",
    "CDS_{ret, t} = \\frac{CDS_{t-1}}{250} + \\Delta CDS_t \\times RD_{t-1}\n",
    "$$\n",
    "\n",
    "where:\n",
    "- \\( CDS_t \\) represents the **CDS spread** at time \\( t \\),\n",
    "- \\( RD_{t-1} \\) is the **risky duration** of the contract, and\n",
    "- \\( \\Delta CDS_t \\) is the **change in spreads**.\n",
    "\n",
    "The first term represents the **carry return**, while the second term captures **capital gain return**.\n",
    "\n",
    "## Risky Duration Computation\n",
    "\n",
    "Risky duration, \\( RD_t \\), is computed as:\n",
    "\n",
    "$$\n",
    "RD_t = \\frac{1}{4} \\sum_{j=1}^{4M} e^{-j\\lambda/4} e^{-j(r_{j/4,t})/4}\n",
    "$$\n",
    "\n",
    "where:\n",
    "- \\( e^{-j\\lambda/4} \\) represents the **quarterly survival probability**,\n",
    "- \\( r_{j/4,t} \\) is the **risk-free rate** for each quarter, and\n",
    "- \\( e^{-j(r_{j/4,t})/4} \\) is the **discount function**.\n"
   ]
  },
  {
   "cell_type": "markdown",
   "metadata": {},
   "source": [
    "\n",
    "The **default intensity (λ)** represents the probability of default in a given period and is derived from the **CDS spread**. This step is crucial because it translates **market-implied credit risk** into a measurable parameter for modeling risk exposure.\n",
    "\n",
    "### Formula:\n",
    "\\[\n",
    "\\lambda = 12 \\times \\log \\left( 1 + \\frac{\\text{spread}}{12L} \\right)\n",
    "\\]\n",
    "where **L** is the loss given default (typically assumed to be 60%).\n",
    "\n",
    "### Purpose:\n",
    "- **Measure Default Probability** – Helps quantify the implied risk of default based on observed CDS spreads.\n",
    "- **Risk Assessment** – Used in pricing, risk management, and stress testing for credit-sensitive securities.\n",
    "- **Consistency with Term Structures** – Ensures compatibility with continuous-time models for credit risk. \n",
    "\n",
    "This step refines raw CDS spread data into a usable risk measure for further analysis.\n"
   ]
  },
  {
   "cell_type": "code",
   "execution_count": null,
   "metadata": {},
   "outputs": [],
   "source": [
    "# Step 4: Compute CDS Default Intensity (Lambda)\n",
    "def calc_lambda(cds_df, L=0.6):\n",
    "    \"\"\"Calculate default intensity (lambda) using CDS spreads.\"\"\"\n",
    "    cds_df[\"lambda\"] = 12 * np.log(1 + cds_df[\"spread\"] / (12 * L))\n",
    "    return cds_df"
   ]
  },
  {
   "cell_type": "code",
   "execution_count": null,
   "metadata": {},
   "outputs": [],
   "source": [
    "# Step 5: Compute Risky Duration (RD)\n",
    "def calc_RD(cds_df, maturity=5):\n",
    "    \"\"\"Compute risk-neutral default probability RD.\"\"\"\n",
    "    \n",
    "    # Ensure a copy is used to prevent SettingWithCopyWarning\n",
    "    cds_df = cds_df.copy()\n",
    "    \n",
    "    # Check if necessary columns exist\n",
    "    if cds_df.empty:\n",
    "        raise ValueError(\"Error: Markit DataFrame is empty! Ensure Markit data is properly loaded.\")\n",
    "    \n",
    "    required_cols = [\"spread\", \"trade_date\"]\n",
    "    for col in required_cols:\n",
    "        if col not in cds_df.columns:\n",
    "            raise ValueError(f\"Error: '{col}' column is missing from the data!\")\n",
    "    \n",
    "    cds_df[\"trade_date\"] = pd.to_datetime(cds_df[\"trade_date\"])\n",
    "\n",
    "    # Compute lambda first\n",
    "    cds_df[\"lambda\"] = 12 * np.log(1 + cds_df[\"spread\"] / (12 * 0.6))  # Assuming L=0.6\n",
    "\n",
    "    # Initialize RD column\n",
    "    cds_df[\"RD\"] = 0.0  \n",
    "\n",
    "    # Compute Risky Duration (RD)\n",
    "    for j in range(1, 12 * maturity + 1):  \n",
    "        cds_df[\"RD\"] += np.exp(-j / 12 * cds_df[\"lambda\"])\n",
    "    \n",
    "    cds_df[\"RD\"] /= 12  # Normalize\n",
    "\n",
    "    # Sort by ticker and date for consistency\n",
    "    cds_df = cds_df.sort_values([\"ticker\", \"trade_date\"])\n",
    "    \n",
    "    # Create lagged columns\n",
    "    cds_df[\"RD_prev\"] = cds_df.groupby(\"ticker\")[\"RD\"].shift(1)\n",
    "    cds_df[\"spread_prev\"] = cds_df.groupby(\"ticker\")[\"spread\"].shift(1)\n",
    "    \n",
    "    return cds_df.dropna(subset=[\"RD_prev\", \"spread_prev\"])  # Drop NaNs due to shifting\n"
   ]
  },
  {
   "cell_type": "code",
   "execution_count": null,
   "metadata": {},
   "outputs": [],
   "source": [
    "# Step 6: Compute Final CDS Daily Returns\n",
    "from calc_cds_daily_return import *\n",
    "markit = load_multiple_data()\n",
    "\n",
    "sector_df = load_sector_data()\n",
    "\n",
    "fed_data = load_fed_yield_curve()\n",
    "fred_data = load_fred_data()\n",
    "\n",
    "rf_data = merge_rf_data(fed_data, fred_data, markit)\n",
    "risk_free_term_df = calc_risk_free_term(rf_data)\n",
    "\n",
    "rd_df = calc_RD(markit, risk_free_term_df)\n",
    "final_df = calc_cds_daily_return(rd_df)"
   ]
  },
  {
   "cell_type": "code",
   "execution_count": null,
   "metadata": {},
   "outputs": [],
   "source": [
    "# Step 7: Save Processed Data\n",
    "data_path = DATA_DIR / \"CDS_daily_return.parquet\"\n",
    "final_df.to_parquet(data_path)"
   ]
  },
  {
   "cell_type": "code",
   "execution_count": null,
   "metadata": {},
   "outputs": [],
   "source": [
    "import pandas as pd\n",
    "import matplotlib.pyplot as plt\n",
    "from IPython.display import display, Image"
   ]
  },
  {
   "cell_type": "markdown",
   "metadata": {},
   "source": [
    "The figure below illustrates the time series of CDS portfolio returns from 2000 to 2025. Each line represents a different CDS portfolio, capturing the fluctuations in credit default swap values over time. The figure highlights periods of heightened volatility, particularly around the 2008 financial crisis, where extreme negative returns are observed. These sharp declines indicate market-wide disruptions in credit risk pricing. Post-2008, returns exhibit relatively lower volatility but continue to experience occasional fluctuations, reflecting market cycles and changes in credit conditions. The dynamic behavior of CDS portfolios in this plot is crucial for understanding the systemic risk and return characteristics of credit markets. \n"
   ]
  },
  {
   "cell_type": "code",
   "execution_count": null,
   "metadata": {},
   "outputs": [],
   "source": [
    "# Load and display image in Jupyter Notebook\n",
    "fig1_path = \"../_output/cds_portfolio_returns.png\"\n",
    "display(Image(filename=fig1_path))\n"
   ]
  },
  {
   "cell_type": "markdown",
   "metadata": {},
   "source": [
    "Our Comparison Figure compares the actual CDS portfolio returns with the replicated returns for CDS$_{10}$, highlighting deviations between the two series. The blue line represents the actual CDS spread, while the orange dashed line shows the replicated series. The figure demonstrates a general alignment between the two series, validating the replication methodology. However, noticeable discrepancies appear during periods of high volatility, particularly around 2008, where the replicated values deviate more significantly from the actual data. These deviations may be attributed to data limitations, estimation errors, or structural changes in credit risk pricing post-2008. This comparison is essential in assessing the accuracy of the replication process and identifying potential areas for refinement in future research.\n"
   ]
  },
  {
   "cell_type": "code",
   "execution_count": null,
   "metadata": {},
   "outputs": [],
   "source": [
    "# Load and display image in Jupyter Notebook\n",
    "fig2_path = \"../_output/cds_comparison_CDS_10.png\"\n",
    "display(Image(filename=fig2_path))\n"
   ]
  },
  {
   "cell_type": "markdown",
   "metadata": {},
   "source": [
    "## Exploratory Analysis"
   ]
  },
  {
   "cell_type": "code",
   "execution_count": null,
   "metadata": {},
   "outputs": [],
   "source": [
    "\n",
    "print(\"\\nSummary Statistics:\")\n",
    "display(final_df.describe())"
   ]
  },
  {
   "cell_type": "code",
   "execution_count": null,
   "metadata": {},
   "outputs": [],
   "source": [
    "# Time-Series Plot of CDS Returns\n",
    "plt.figure(figsize=(10, 5))\n",
    "plt.plot(final_df.groupby(\"trade_date\")[\"daily_return\"].mean(), label=\"Average CDS Daily Return\", color=\"blue\")\n",
    "plt.xlabel(\"Date\")\n",
    "plt.ylabel(\"Daily Return\")\n",
    "plt.title(\"Credit Default Swap Daily Returns Over Time\")\n",
    "plt.legend()\n",
    "plt.show()"
   ]
  },
  {
   "cell_type": "markdown",
   "metadata": {},
   "source": [
    "This plot above shows the **daily returns of CDS portfolios** over time from **2000 to 2025**. The blue line represents the average CDS daily return.\n",
    "\n",
    "**Key Observations:**\n",
    "- **Periods of High Volatility**: The plot highlights sharp spikes and dips in CDS returns, with extreme fluctuations around the **2008 financial crisis** and some significant events in **2011 and 2020**.\n",
    "- **Negative Spikes**: There are a few extreme downward movements, particularly around **2011**, which likely indicate financial distress or market shocks.\n",
    "- **Post-2008 Stability**: After the 2008 crisis, fluctuations in daily returns appear to be more contained, but still exhibit occasional volatility.\n",
    "- **Long-Term Trend**: Despite short-term fluctuations, the overall trend appears to be mean-reverting, with most returns oscillating around **zero**.\n",
    "\n",
    "This visualization is crucial for understanding the behavior of **CDS market risk and return characteristics** over time.\n"
   ]
  },
  {
   "cell_type": "code",
   "execution_count": null,
   "metadata": {},
   "outputs": [],
   "source": [
    "import seaborn as sns  \n",
    "import matplotlib.pyplot as plt\n",
    "\n",
    "# Boxplot of Returns Over Years\n",
    "sns.boxplot(x=final_df[\"trade_date\"].dt.year, y=final_df[\"daily_return\"])\n",
    "plt.xlabel(\"Year\")\n",
    "plt.ylabel(\"Daily Return\")\n",
    "plt.title(\"CDS Daily Returns by Year\")\n",
    "plt.xticks(rotation=45)\n",
    "plt.show()\n",
    "\n"
   ]
  },
  {
   "cell_type": "markdown",
   "metadata": {},
   "source": [
    "\n",
    "This plot above presents the **distribution of CDS daily returns** across different years, helping to identify outliers and trends in return dispersion.\n",
    "\n",
    "**Key Observations:**\n",
    "- **Outliers and Extreme Events**: There are **several large negative outliers**, particularly in **2008, 2011, and 2020**, which correspond to major financial crises or global market disruptions.\n",
    "- **Clustering of Returns**: Most daily returns are concentrated around **zero**, indicating that extreme fluctuations are infrequent but significant.\n",
    "- **Comparing Different Periods**:\n",
    "  - **2001–2007**: Returns appear relatively stable.\n",
    "  - **2008–2011**: Noticeable increase in outliers and return dispersion.\n",
    "  - **2012–2025**: Return dispersion is more controlled, though occasional spikes remain.\n",
    "\n",
    "This boxplot helps in identifying **market stress periods** and understanding how CDS returns behave under different economic conditions.\n"
   ]
  },
  {
   "cell_type": "code",
   "execution_count": null,
   "metadata": {},
   "outputs": [],
   "source": [
    "# Correlation Matrix\n",
    "correlation_matrix = final_df[[\"spread\", \"RD\", \"daily_return\"]].corr()\n",
    "print(\"\\nCorrelation Matrix:\")\n",
    "display(correlation_matrix)"
   ]
  },
  {
   "cell_type": "markdown",
   "metadata": {},
   "source": [
    "The correlation matrix reveals the relationships between **spread**, **RD**, and **daily_return**:\n",
    "\n",
    "- **Spread and RD** have a weak negative correlation of **-0.297**, indicating a slight inverse relationship.\n",
    "- **Spread and daily_return** show a strong negative correlation of **-0.786**, suggesting that higher spreads are associated with lower daily returns.\n",
    "- **RD and daily_return** have a correlation of **0.046**, implying almost no relationship between the two.\n",
    "\n",
    "Overall, the matrix suggests that **spread** has a stronger impact on **daily_return** compared to **RD**.\n"
   ]
  }
 ],
 "metadata": {
  "language_info": {
   "name": "python"
  }
 },
 "nbformat": 4,
 "nbformat_minor": 2
}
