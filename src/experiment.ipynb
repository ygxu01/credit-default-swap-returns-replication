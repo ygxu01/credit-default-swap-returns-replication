{
 "cells": [
  {
   "cell_type": "code",
   "execution_count": 2,
   "metadata": {},
   "outputs": [],
   "source": [
    "from pull_markit import load_markit_data, load_multiple_data, load_sector_data\n",
    "from pull_cds_return_data import load_real_cds_return\n",
    "from pull_rf_data import load_fed_yield_curve, load_fred_data\n",
    "\n",
    "from calc_cds_daily_return import load_cds_return\n",
    "from create_portfolio import load_portfolio"
   ]
  },
  {
   "cell_type": "code",
   "execution_count": 3,
   "metadata": {},
   "outputs": [],
   "source": [
    "import datetime"
   ]
  },
  {
   "cell_type": "code",
   "execution_count": 61,
   "metadata": {},
   "outputs": [],
   "source": [
    "# Load data using the imported functions\n",
    "markit_data = load_multiple_data()\n",
    "sector_data = load_sector_data()\n",
    "real_cds_return = load_real_cds_return()\n",
    "cds_return = load_cds_return()\n",
    "portfolio = load_portfolio()\n",
    "fed_yield_curve = load_fed_yield_curve()\n",
    "fred_data = load_fred_data()"
   ]
  },
  {
   "cell_type": "code",
   "execution_count": 62,
   "metadata": {},
   "outputs": [],
   "source": [
    "from create_portfolio import pivot_table"
   ]
  },
  {
   "cell_type": "code",
   "execution_count": 63,
   "metadata": {},
   "outputs": [],
   "source": [
    "from misc_tools import month_code_to_date\n"
   ]
  },
  {
   "cell_type": "code",
   "execution_count": 64,
   "metadata": {},
   "outputs": [],
   "source": [
    "import matplotlib.pyplot as plt\n",
    "def plot_cds_comparison(df_actual, df_replication, column_name):\n",
    "    \"\"\"\n",
    "    Plots the comparison of actual vs. replicated values for a given CDS column.\n",
    "\n",
    "    Parameters:\n",
    "    df_actual (DataFrame): DataFrame containing actual CDS values.\n",
    "    df_replication (DataFrame): DataFrame containing replicated CDS values.\n",
    "    column_name (str): The column name (CDS series) to plot.\n",
    "    \"\"\"\n",
    "    if column_name not in df_actual.columns or column_name not in df_replication.columns:\n",
    "        print(f\"Column {column_name} not found in DataFrames.\")\n",
    "        return\n",
    "    \n",
    "    plt.figure(figsize=(10, 5))\n",
    "    plt.plot(df_actual.index, df_actual[column_name], label=\"Actual\", linestyle='-', marker='o')\n",
    "    plt.plot(df_replication.index, df_replication[column_name], label=\"Replication\", linestyle='--', marker='x')\n",
    "    \n",
    "    plt.title(f\"Comparison of {column_name}: Actual vs. Replication\")\n",
    "    plt.xlabel(\"Time (yyyymm)\")\n",
    "    plt.ylabel(\"CDS Spread\")\n",
    "    plt.legend()\n",
    "    plt.grid(True)\n",
    "    plt.show()"
   ]
  },
  {
   "cell_type": "code",
   "execution_count": 65,
   "metadata": {},
   "outputs": [
    {
     "data": {
      "text/html": [
       "<div>\n",
       "<style scoped>\n",
       "    .dataframe tbody tr th:only-of-type {\n",
       "        vertical-align: middle;\n",
       "    }\n",
       "\n",
       "    .dataframe tbody tr th {\n",
       "        vertical-align: top;\n",
       "    }\n",
       "\n",
       "    .dataframe thead th {\n",
       "        text-align: right;\n",
       "    }\n",
       "</style>\n",
       "<table border=\"1\" class=\"dataframe\">\n",
       "  <thead>\n",
       "    <tr style=\"text-align: right;\">\n",
       "      <th></th>\n",
       "      <th>yyyymm</th>\n",
       "      <th>portfolio</th>\n",
       "      <th>daily_return</th>\n",
       "    </tr>\n",
       "  </thead>\n",
       "  <tbody>\n",
       "    <tr>\n",
       "      <th>0</th>\n",
       "      <td>200101.0</td>\n",
       "      <td>1</td>\n",
       "      <td>-0.003000</td>\n",
       "    </tr>\n",
       "    <tr>\n",
       "      <th>1</th>\n",
       "      <td>200101.0</td>\n",
       "      <td>2</td>\n",
       "      <td>0.002679</td>\n",
       "    </tr>\n",
       "    <tr>\n",
       "      <th>2</th>\n",
       "      <td>200101.0</td>\n",
       "      <td>3</td>\n",
       "      <td>0.000035</td>\n",
       "    </tr>\n",
       "  </tbody>\n",
       "</table>\n",
       "</div>"
      ],
      "text/plain": [
       "     yyyymm  portfolio  daily_return\n",
       "0  200101.0          1     -0.003000\n",
       "1  200101.0          2      0.002679\n",
       "2  200101.0          3      0.000035"
      ]
     },
     "execution_count": 65,
     "metadata": {},
     "output_type": "execute_result"
    }
   ],
   "source": [
    "portfolio.head(3)"
   ]
  },
  {
   "cell_type": "code",
   "execution_count": 66,
   "metadata": {},
   "outputs": [],
   "source": [
    "portfolio[\"yyyymm\"] = portfolio[\"yyyymm\"].apply(month_code_to_date)\n",
    "\n",
    "real_cds_return[\"yyyymm\"] = real_cds_return[\"yyyymm\"].apply(month_code_to_date)\n",
    "real_cds_return.set_index(\"yyyymm\", inplace=True)"
   ]
  },
  {
   "cell_type": "code",
   "execution_count": 67,
   "metadata": {},
   "outputs": [],
   "source": [
    "import pandas as pd\n",
    "real_cds_return.index = pd.to_datetime(real_cds_return.index)"
   ]
  },
  {
   "cell_type": "code",
   "execution_count": 68,
   "metadata": {},
   "outputs": [],
   "source": [
    "def pivot_table(portfolio):\n",
    "    df_pivot = portfolio.pivot(index='yyyymm', columns='portfolio', values='daily_return')\n",
    "    df_pivot.columns = [f\"CDS_{str(col).zfill(2)}\" for col in df_pivot.columns]\n",
    "    return df_pivot\n"
   ]
  },
  {
   "cell_type": "code",
   "execution_count": 69,
   "metadata": {},
   "outputs": [],
   "source": [
    "pivot_table = pivot_table(portfolio)"
   ]
  },
  {
   "cell_type": "code",
   "execution_count": 70,
   "metadata": {},
   "outputs": [],
   "source": [
    "pivot_table.index = pd.to_datetime(pivot_table.index)"
   ]
  },
  {
   "cell_type": "code",
   "execution_count": 71,
   "metadata": {},
   "outputs": [
    {
     "data": {
      "image/png": "[encoded data removed]",
      "text/plain": [
       "<Figure size 1000x500 with 1 Axes>"
      ]
     },
     "metadata": {},
     "output_type": "display_data"
    }
   ],
   "source": [
    "plot_cds_comparison(real_cds_return.loc[:\"2009-01-01\"],pivot_table.loc[:\"2009-01-01\"],\"CDS_10\")"
   ]
  },
  {
   "cell_type": "code",
   "execution_count": 72,
   "metadata": {},
   "outputs": [
    {
     "data": {
      "text/plain": [
       "-0.03662831412900342"
      ]
     },
     "execution_count": 72,
     "metadata": {},
     "output_type": "execute_result"
    }
   ],
   "source": [
    "portfolio[(portfolio[\"portfolio\"] == 10) & (portfolio[\"yyyymm\"] < datetime.date(2009, 1, 1))][\"daily_return\"].min()"
   ]
  },
  {
   "cell_type": "code",
   "execution_count": 73,
   "metadata": {},
   "outputs": [
    {
     "data": {
      "text/html": [
       "<div>\n",
       "<style scoped>\n",
       "    .dataframe tbody tr th:only-of-type {\n",
       "        vertical-align: middle;\n",
       "    }\n",
       "\n",
       "    .dataframe tbody tr th {\n",
       "        vertical-align: top;\n",
       "    }\n",
       "\n",
       "    .dataframe thead th {\n",
       "        text-align: right;\n",
       "    }\n",
       "</style>\n",
       "<table border=\"1\" class=\"dataframe\">\n",
       "  <thead>\n",
       "    <tr style=\"text-align: right;\">\n",
       "      <th></th>\n",
       "      <th>yyyymm</th>\n",
       "      <th>portfolio</th>\n",
       "      <th>daily_return</th>\n",
       "    </tr>\n",
       "  </thead>\n",
       "  <tbody>\n",
       "    <tr>\n",
       "      <th>1869</th>\n",
       "      <td>2008-10-01</td>\n",
       "      <td>10</td>\n",
       "      <td>-0.036628</td>\n",
       "    </tr>\n",
       "  </tbody>\n",
       "</table>\n",
       "</div>"
      ],
      "text/plain": [
       "          yyyymm  portfolio  daily_return\n",
       "1869  2008-10-01         10     -0.036628"
      ]
     },
     "execution_count": 73,
     "metadata": {},
     "output_type": "execute_result"
    }
   ],
   "source": [
    "portfolio[(portfolio[\"portfolio\"] == 10) & (portfolio[\"daily_return\"] < -0.03)]"
   ]
  },
  {
   "cell_type": "code",
   "execution_count": 74,
   "metadata": {},
   "outputs": [
    {
     "data": {
      "text/html": [
       "<div>\n",
       "<style scoped>\n",
       "    .dataframe tbody tr th:only-of-type {\n",
       "        vertical-align: middle;\n",
       "    }\n",
       "\n",
       "    .dataframe tbody tr th {\n",
       "        vertical-align: top;\n",
       "    }\n",
       "\n",
       "    .dataframe thead th {\n",
       "        text-align: right;\n",
       "    }\n",
       "</style>\n",
       "<table border=\"1\" class=\"dataframe\">\n",
       "  <thead>\n",
       "    <tr style=\"text-align: right;\">\n",
       "      <th></th>\n",
       "      <th>ticker</th>\n",
       "      <th>trade_date</th>\n",
       "      <th>spread_prev</th>\n",
       "      <th>spread</th>\n",
       "      <th>RD</th>\n",
       "      <th>RD_prev</th>\n",
       "      <th>sector</th>\n",
       "      <th>daily_return</th>\n",
       "    </tr>\n",
       "  </thead>\n",
       "  <tbody>\n",
       "    <tr>\n",
       "      <th>2889950</th>\n",
       "      <td>OMX</td>\n",
       "      <td>2008-10-01</td>\n",
       "      <td>0.014700</td>\n",
       "      <td>0.050903</td>\n",
       "      <td>4.045326</td>\n",
       "      <td>4.677870</td>\n",
       "      <td>Consumer Services</td>\n",
       "      <td>-0.169295</td>\n",
       "    </tr>\n",
       "    <tr>\n",
       "      <th>2967416</th>\n",
       "      <td>YRCWWI</td>\n",
       "      <td>2008-10-01</td>\n",
       "      <td>0.102503</td>\n",
       "      <td>0.144252</td>\n",
       "      <td>2.883534</td>\n",
       "      <td>3.332715</td>\n",
       "      <td>Industrials</td>\n",
       "      <td>-0.138724</td>\n",
       "    </tr>\n",
       "    <tr>\n",
       "      <th>2756559</th>\n",
       "      <td>BCFWC</td>\n",
       "      <td>2008-10-01</td>\n",
       "      <td>0.152902</td>\n",
       "      <td>0.191128</td>\n",
       "      <td>2.478990</td>\n",
       "      <td>2.801003</td>\n",
       "      <td>Consumer Services</td>\n",
       "      <td>-0.106460</td>\n",
       "    </tr>\n",
       "    <tr>\n",
       "      <th>2941400</th>\n",
       "      <td>TSG-Sab</td>\n",
       "      <td>2008-10-01</td>\n",
       "      <td>0.118660</td>\n",
       "      <td>0.145545</td>\n",
       "      <td>2.871065</td>\n",
       "      <td>3.147071</td>\n",
       "      <td>Consumer Services</td>\n",
       "      <td>-0.084134</td>\n",
       "    </tr>\n",
       "    <tr>\n",
       "      <th>2752990</th>\n",
       "      <td>AXL</td>\n",
       "      <td>2008-10-01</td>\n",
       "      <td>0.162740</td>\n",
       "      <td>0.191892</td>\n",
       "      <td>2.473134</td>\n",
       "      <td>2.712110</td>\n",
       "      <td>Consumer Goods</td>\n",
       "      <td>-0.078412</td>\n",
       "    </tr>\n",
       "    <tr>\n",
       "      <th>...</th>\n",
       "      <td>...</td>\n",
       "      <td>...</td>\n",
       "      <td>...</td>\n",
       "      <td>...</td>\n",
       "      <td>...</td>\n",
       "      <td>...</td>\n",
       "      <td>...</td>\n",
       "      <td>...</td>\n",
       "    </tr>\n",
       "    <tr>\n",
       "      <th>2911949</th>\n",
       "      <td>RHD</td>\n",
       "      <td>2008-10-01</td>\n",
       "      <td>0.238035</td>\n",
       "      <td>0.235156</td>\n",
       "      <td>2.173744</td>\n",
       "      <td>2.155434</td>\n",
       "      <td>Consumer Services</td>\n",
       "      <td>0.007157</td>\n",
       "    </tr>\n",
       "    <tr>\n",
       "      <th>2869460</th>\n",
       "      <td>MIKE</td>\n",
       "      <td>2008-10-01</td>\n",
       "      <td>0.136593</td>\n",
       "      <td>0.134015</td>\n",
       "      <td>2.985146</td>\n",
       "      <td>2.958345</td>\n",
       "      <td>Consumer Services</td>\n",
       "      <td>0.008173</td>\n",
       "    </tr>\n",
       "    <tr>\n",
       "      <th>2891260</th>\n",
       "      <td>OSG</td>\n",
       "      <td>2008-10-01</td>\n",
       "      <td>0.030418</td>\n",
       "      <td>0.027758</td>\n",
       "      <td>4.435653</td>\n",
       "      <td>4.386982</td>\n",
       "      <td>Industrials</td>\n",
       "      <td>0.011790</td>\n",
       "    </tr>\n",
       "    <tr>\n",
       "      <th>2868585</th>\n",
       "      <td>MGM</td>\n",
       "      <td>2008-10-01</td>\n",
       "      <td>0.095205</td>\n",
       "      <td>0.091834</td>\n",
       "      <td>3.465094</td>\n",
       "      <td>3.421856</td>\n",
       "      <td>Consumer Services</td>\n",
       "      <td>0.011917</td>\n",
       "    </tr>\n",
       "    <tr>\n",
       "      <th>2911427</th>\n",
       "      <td>REI</td>\n",
       "      <td>2008-10-01</td>\n",
       "      <td>0.082581</td>\n",
       "      <td>0.074131</td>\n",
       "      <td>3.700442</td>\n",
       "      <td>3.584398</td>\n",
       "      <td>Utilities</td>\n",
       "      <td>0.030619</td>\n",
       "    </tr>\n",
       "  </tbody>\n",
       "</table>\n",
       "<p>885 rows × 8 columns</p>\n",
       "</div>"
      ],
      "text/plain": [
       "          ticker trade_date  spread_prev    spread        RD   RD_prev  \\\n",
       "2889950      OMX 2008-10-01     0.014700  0.050903  4.045326  4.677870   \n",
       "2967416   YRCWWI 2008-10-01     0.102503  0.144252  2.883534  3.332715   \n",
       "2756559    BCFWC 2008-10-01     0.152902  0.191128  2.478990  2.801003   \n",
       "2941400  TSG-Sab 2008-10-01     0.118660  0.145545  2.871065  3.147071   \n",
       "2752990      AXL 2008-10-01     0.162740  0.191892  2.473134  2.712110   \n",
       "...          ...        ...          ...       ...       ...       ...   \n",
       "2911949      RHD 2008-10-01     0.238035  0.235156  2.173744  2.155434   \n",
       "2869460     MIKE 2008-10-01     0.136593  0.134015  2.985146  2.958345   \n",
       "2891260      OSG 2008-10-01     0.030418  0.027758  4.435653  4.386982   \n",
       "2868585      MGM 2008-10-01     0.095205  0.091834  3.465094  3.421856   \n",
       "2911427      REI 2008-10-01     0.082581  0.074131  3.700442  3.584398   \n",
       "\n",
       "                    sector  daily_return  \n",
       "2889950  Consumer Services     -0.169295  \n",
       "2967416        Industrials     -0.138724  \n",
       "2756559  Consumer Services     -0.106460  \n",
       "2941400  Consumer Services     -0.084134  \n",
       "2752990     Consumer Goods     -0.078412  \n",
       "...                    ...           ...  \n",
       "2911949  Consumer Services      0.007157  \n",
       "2869460  Consumer Services      0.008173  \n",
       "2891260        Industrials      0.011790  \n",
       "2868585  Consumer Services      0.011917  \n",
       "2911427          Utilities      0.030619  \n",
       "\n",
       "[885 rows x 8 columns]"
      ]
     },
     "execution_count": 74,
     "metadata": {},
     "output_type": "execute_result"
    }
   ],
   "source": [
    "cds_return[(cds_return[\"trade_date\"] == \"2008-10-01\")].sort_values(by=\"daily_return\")"
   ]
  },
  {
   "cell_type": "code",
   "execution_count": 47,
   "metadata": {},
   "outputs": [
    {
     "data": {
      "text/plain": [
       "ticker\n",
       "DE-JohnDeCap    6311\n",
       "WFC             6311\n",
       "RTN             6311\n",
       "MWD             6311\n",
       "R               6311\n",
       "                ... \n",
       "CAFUC              1\n",
       "JARDCOR            1\n",
       "AMT-Inc            1\n",
       "SMT                1\n",
       "ENQ                1\n",
       "Name: count, Length: 2260, dtype: int64"
      ]
     },
     "execution_count": 47,
     "metadata": {},
     "output_type": "execute_result"
    }
   ],
   "source": [
    "markit_data[\"ticker\"].value_counts()"
   ]
  },
  {
   "cell_type": "code",
   "execution_count": 44,
   "metadata": {},
   "outputs": [],
   "source": [
    "from misc_tools import pull_from_wrds"
   ]
  },
  {
   "cell_type": "code",
   "execution_count": 77,
   "metadata": {},
   "outputs": [
    {
     "name": "stdout",
     "output_type": "stream",
     "text": [
      "Loading library list...\n",
      "Done\n"
     ]
    },
    {
     "data": {
      "text/html": [
       "<div>\n",
       "<style scoped>\n",
       "    .dataframe tbody tr th:only-of-type {\n",
       "        vertical-align: middle;\n",
       "    }\n",
       "\n",
       "    .dataframe tbody tr th {\n",
       "        vertical-align: top;\n",
       "    }\n",
       "\n",
       "    .dataframe thead th {\n",
       "        text-align: right;\n",
       "    }\n",
       "</style>\n",
       "<table border=\"1\" class=\"dataframe\">\n",
       "  <thead>\n",
       "    <tr style=\"text-align: right;\">\n",
       "      <th></th>\n",
       "      <th>ticker</th>\n",
       "      <th>date</th>\n",
       "      <th>parspread</th>\n",
       "    </tr>\n",
       "  </thead>\n",
       "  <tbody>\n",
       "    <tr>\n",
       "      <th>0</th>\n",
       "      <td>OMX</td>\n",
       "      <td>2008-01-01</td>\n",
       "      <td>0.028682</td>\n",
       "    </tr>\n",
       "    <tr>\n",
       "      <th>1</th>\n",
       "      <td>OMX</td>\n",
       "      <td>2008-01-01</td>\n",
       "      <td>0.028682</td>\n",
       "    </tr>\n",
       "    <tr>\n",
       "      <th>2</th>\n",
       "      <td>OMX</td>\n",
       "      <td>2008-01-01</td>\n",
       "      <td>0.012498</td>\n",
       "    </tr>\n",
       "    <tr>\n",
       "      <th>3</th>\n",
       "      <td>OMX</td>\n",
       "      <td>2008-01-02</td>\n",
       "      <td>0.028682</td>\n",
       "    </tr>\n",
       "    <tr>\n",
       "      <th>4</th>\n",
       "      <td>OMX</td>\n",
       "      <td>2008-01-02</td>\n",
       "      <td>0.012498</td>\n",
       "    </tr>\n",
       "    <tr>\n",
       "      <th>...</th>\n",
       "      <td>...</td>\n",
       "      <td>...</td>\n",
       "      <td>...</td>\n",
       "    </tr>\n",
       "    <tr>\n",
       "      <th>20474</th>\n",
       "      <td>OMX</td>\n",
       "      <td>2008-12-31</td>\n",
       "      <td>0.041513</td>\n",
       "    </tr>\n",
       "    <tr>\n",
       "      <th>20475</th>\n",
       "      <td>OMX</td>\n",
       "      <td>2008-12-31</td>\n",
       "      <td>0.041513</td>\n",
       "    </tr>\n",
       "    <tr>\n",
       "      <th>20476</th>\n",
       "      <td>OMX</td>\n",
       "      <td>2008-12-31</td>\n",
       "      <td>0.040062</td>\n",
       "    </tr>\n",
       "    <tr>\n",
       "      <th>20477</th>\n",
       "      <td>OMX</td>\n",
       "      <td>2008-12-31</td>\n",
       "      <td>0.040062</td>\n",
       "    </tr>\n",
       "    <tr>\n",
       "      <th>20478</th>\n",
       "      <td>OMX</td>\n",
       "      <td>2008-12-31</td>\n",
       "      <td>0.040062</td>\n",
       "    </tr>\n",
       "  </tbody>\n",
       "</table>\n",
       "<p>20479 rows × 3 columns</p>\n",
       "</div>"
      ],
      "text/plain": [
       "      ticker        date  parspread\n",
       "0        OMX  2008-01-01   0.028682\n",
       "1        OMX  2008-01-01   0.028682\n",
       "2        OMX  2008-01-01   0.012498\n",
       "3        OMX  2008-01-02   0.028682\n",
       "4        OMX  2008-01-02   0.012498\n",
       "...      ...         ...        ...\n",
       "20474    OMX  2008-12-31   0.041513\n",
       "20475    OMX  2008-12-31   0.041513\n",
       "20476    OMX  2008-12-31   0.040062\n",
       "20477    OMX  2008-12-31   0.040062\n",
       "20478    OMX  2008-12-31   0.040062\n",
       "\n",
       "[20479 rows x 3 columns]"
      ]
     },
     "execution_count": 77,
     "metadata": {},
     "output_type": "execute_result"
    }
   ],
   "source": [
    "sql = f\"\"\"\n",
    "SELECT ticker, date, parspread\n",
    "FROM markit.cds2008\n",
    "WHERE ticker = 'OMX'\n",
    "\"\"\"\n",
    "pull_from_wrds(sql)"
   ]
  }
 ],
 "metadata": {
  "kernelspec": {
   "display_name": "blank",
   "language": "python",
   "name": "python3"
  },
  "language_info": {
   "codemirror_mode": {
    "name": "ipython",
    "version": 3
   },
   "file_extension": ".py",
   "mimetype": "text/x-python",
   "name": "python",
   "nbconvert_exporter": "python",
   "pygments_lexer": "ipython3",
   "version": "3.12.8"
  }
 },
 "nbformat": 4,
 "nbformat_minor": 2
}
