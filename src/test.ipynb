{
 "cells": [
  {
   "cell_type": "code",
   "execution_count": 1,
   "metadata": {},
   "outputs": [],
   "source": [
    "import pytest\n",
    "import pandas as pd\n",
    "from pathlib import Path\n",
    "from settings import config\n",
    "import pull_cds_return_data\n",
    "import pull_markit\n",
    "import pull_rf_data\n"
   ]
  },
  {
   "cell_type": "code",
   "execution_count": 2,
   "metadata": {},
   "outputs": [],
   "source": [
    "DATA_DIR = Path(config(\"DATA_DIR\"))\n",
    "MANUAL_DATA_DIR = Path(config(\"MANUAL_DATA_DIR\"))\n"
   ]
  },
  {
   "cell_type": "code",
   "execution_count": 4,
   "metadata": {},
   "outputs": [],
   "source": [
    "df = pull_markit.load_sector_data()"
   ]
  },
  {
   "cell_type": "code",
   "execution_count": 13,
   "metadata": {},
   "outputs": [
    {
     "data": {
      "text/plain": [
       "11"
      ]
     },
     "execution_count": 13,
     "metadata": {},
     "output_type": "execute_result"
    }
   ],
   "source": [
    "df[\"sector\"].nunique()"
   ]
  },
  {
   "cell_type": "code",
   "execution_count": 14,
   "metadata": {},
   "outputs": [],
   "source": [
    "def unpivot_table(real_cds_return):\n",
    "    '''\n",
    "    Unpivoting the table to get the returns in long format\n",
    "    '''\n",
    "    df_unpivoted = real_cds_return.reset_index().melt(id_vars=['yyyymm'], var_name='portfolio', value_name='monthly_return')\n",
    "\n",
    "    df_unpivoted['portfolio'] = df_unpivoted['portfolio'].str.extract(r'(\\d+)').astype(int)\n",
    "\n",
    "    return df_unpivoted"
   ]
  },
  {
   "cell_type": "code",
   "execution_count": 29,
   "metadata": {},
   "outputs": [],
   "source": [
    "df = pull_cds_return_data.load_real_cds_return()"
   ]
  },
  {
   "cell_type": "code",
   "execution_count": 28,
   "metadata": {},
   "outputs": [
    {
     "data": {
      "text/plain": [
       "Index(['CDS_01', 'CDS_02', 'CDS_03', 'CDS_04', 'CDS_05', 'CDS_06', 'CDS_07',\n",
       "       'CDS_08', 'CDS_09', 'CDS_10', 'CDS_11', 'CDS_12', 'CDS_13', 'CDS_14',\n",
       "       'CDS_15', 'CDS_16', 'CDS_17', 'CDS_18', 'CDS_19', 'CDS_20'],\n",
       "      dtype='object')"
      ]
     },
     "execution_count": 28,
     "metadata": {},
     "output_type": "execute_result"
    }
   ],
   "source": [
    "df.columns"
   ]
  },
  {
   "cell_type": "code",
   "execution_count": 26,
   "metadata": {},
   "outputs": [
    {
     "data": {
      "text/plain": [
       "['CDS_01',\n",
       " 'CDS_02',\n",
       " 'CDS_03',\n",
       " 'CDS_04',\n",
       " 'CDS_05',\n",
       " 'CDS_06',\n",
       " 'CDS_07',\n",
       " 'CDS_08',\n",
       " 'CDS_09',\n",
       " 'CDS_10',\n",
       " 'CDS_11',\n",
       " 'CDS_12',\n",
       " 'CDS_13',\n",
       " 'CDS_14',\n",
       " 'CDS_15',\n",
       " 'CDS_16',\n",
       " 'CDS_17',\n",
       " 'CDS_18',\n",
       " 'CDS_19',\n",
       " 'CDS_20']"
      ]
     },
     "execution_count": 26,
     "metadata": {},
     "output_type": "execute_result"
    }
   ],
   "source": [
    "[f\"CDS_{i:02d}\" for i in range(1, 21)]"
   ]
  },
  {
   "cell_type": "code",
   "execution_count": 31,
   "metadata": {},
   "outputs": [],
   "source": [
    "df_unpivoted = unpivot_table(df)"
   ]
  },
  {
   "cell_type": "code",
   "execution_count": 33,
   "metadata": {},
   "outputs": [
    {
     "data": {
      "text/plain": [
       "datetime.date(2001, 2, 1)"
      ]
     },
     "execution_count": 33,
     "metadata": {},
     "output_type": "execute_result"
    }
   ],
   "source": [
    "df_unpivoted[\"yyyymm\"].min()"
   ]
  }
 ],
 "metadata": {
  "kernelspec": {
   "display_name": "blank",
   "language": "python",
   "name": "python3"
  },
  "language_info": {
   "codemirror_mode": {
    "name": "ipython",
    "version": 3
   },
   "file_extension": ".py",
   "mimetype": "text/x-python",
   "name": "python",
   "nbconvert_exporter": "python",
   "pygments_lexer": "ipython3",
   "version": "3.12.8"
  }
 },
 "nbformat": 4,
 "nbformat_minor": 2
}
